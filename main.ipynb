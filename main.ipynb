{
 "cells": [
  {
   "cell_type": "markdown",
   "metadata": {},
   "source": [
    "# Trabalho 2 - Cenário 3D\n",
    "Construir um cenário 3D a partir de modelos/malhas pré-existentes, com aplicação\n",
    "de textura e iluminação.\n",
    "\n",
    "**Integrantes:**\n",
    "- Matheus Bermudes Viana - 11849797\n",
    "- Enrique Gabriel da Silva Teles - 10724326"
   ]
  },
  {
   "cell_type": "markdown",
   "metadata": {},
   "source": [
    "### Primeiro, importamos as bibliotecas necessárias.\n",
    "Verifique no código anterior um script para instalar as dependências necessárias (OpenGL e GLFW) antes de prosseguir."
   ]
  },
  {
   "cell_type": "code",
   "execution_count": 1,
   "metadata": {},
   "outputs": [],
   "source": [
    "import glfw\n",
    "from OpenGL.GL import *\n",
    "import OpenGL.GL.shaders\n",
    "import numpy as np\n",
    "import glm\n",
    "import math\n",
    "from PIL import Image"
   ]
  },
  {
   "cell_type": "markdown",
   "metadata": {},
   "source": [
    "### Inicializando janela"
   ]
  },
  {
   "cell_type": "code",
   "execution_count": 2,
   "metadata": {},
   "outputs": [],
   "source": [
    "glfw.init()\n",
    "glfw.window_hint(glfw.VISIBLE, glfw.FALSE);\n",
    "altura = 1600\n",
    "largura = 1200\n",
    "window = glfw.create_window(largura, altura, \"Trabalho 2 - Cenário 3D\", None, None)\n",
    "glfw.make_context_current(window)"
   ]
  },
  {
   "cell_type": "markdown",
   "metadata": {},
   "source": [
    "### GLSL (OpenGL Shading Language)\n",
    "\n",
    "Aqui veremos nosso primeiro código GLSL.\n",
    "\n",
    "É uma linguagem de shading de alto nível baseada na linguagem de programação C.\n",
    "\n",
    "Estamos escrevendo código GLSL como se \"strings\" de uma variável (mas podemos ler de arquivos texto). Esse código, depois, terá que ser compilado e linkado ao nosso programa. \n",
    "\n",
    "Aprenderemos GLSL conforme a necessidade do curso. Usaremos uma versão do GLSL mais antiga, compatível com muitos dispositivos."
   ]
  },
  {
   "cell_type": "markdown",
   "metadata": {},
   "source": [
    "### GLSL para Vertex Shader\n",
    "\n",
    "No Pipeline programável, podemos interagir com Vertex Shaders.\n",
    "\n",
    "No código abaixo, estamos fazendo o seguinte:\n",
    "\n",
    "* Definindo uma variável chamada position do tipo vec3.\n",
    "* Definindo matrizes Model, View e Projection que acumulam transformações geométricas 3D e permitem navegação no cenário.\n",
    "* void main() é o ponto de entrada do nosso programa (função principal).\n",
    "* gl_Position é uma variável especial do GLSL. Variáveis que começam com 'gl_' são desse tipo. Nesse caso, determina a posição de um vértice. Observe que todo vértice tem 4 coordenadas, por isso combinamos nossa variável vec2 com uma variável vec4. Além disso, modificamos nosso vetor com base nas transformações Model, View e Projection."
   ]
  },
  {
   "cell_type": "code",
   "execution_count": 3,
   "metadata": {},
   "outputs": [],
   "source": [
    "vertex_code = \"\"\"\n",
    "        attribute vec3 position;\n",
    "        attribute vec2 texture_coord;\n",
    "        attribute vec3 normals;\n",
    "\n",
    "        varying vec2 out_texture;\n",
    "        varying vec3 out_normal;\n",
    "                \n",
    "        uniform mat4 model;\n",
    "        uniform mat4 view;\n",
    "        uniform mat4 projection;        \n",
    "        \n",
    "        void main(){\n",
    "            gl_Position = projection * view * model * vec4(position,1.0);\n",
    "            out_texture = vec2(texture_coord);\n",
    "            out_normal = vec3( model *vec4(normals, 1.0));            \n",
    "\n",
    "        }\n",
    "        \"\"\""
   ]
  },
  {
   "cell_type": "markdown",
   "metadata": {},
   "source": [
    "### GLSL para Fragment Shader\n",
    "\n",
    "No Pipeline programável, podemos interagir com Fragment Shaders.\n",
    "\n",
    "No código abaixo, estamos fazendo o seguinte:\n",
    "\n",
    "* void main() é o ponto de entrada do nosso programa (função principal).\n",
    "* gl_FragColor é uma variável especial do GLSL. Variáveis que começam com 'gl_' são desse tipo. Nesse caso, determina a cor de um fragmento. Nesse caso é um ponto, mas poderia ser outro objeto (ponto, linha, triangulos, etc)."
   ]
  },
  {
   "cell_type": "markdown",
   "metadata": {},
   "source": [
    "### Possibilitando modificar a cor.\n",
    "\n",
    "Nos exemplos anteriores, a variável gl_FragColor estava definida de forma fixa (com cor R=0, G=0, B=0).\n",
    "\n",
    "Agora, criaremos uma variável do tipo \"uniform\", de quatro posições (vec4), para receber o dado de cor do nosso programa rodando em CPU."
   ]
  },
  {
   "cell_type": "code",
   "execution_count": 4,
   "metadata": {},
   "outputs": [],
   "source": [
    "fragment_code = \"\"\"\n",
    "        uniform vec3 lightPos; // define coordenadas de posicao da luz\n",
    "        uniform float ka; // coeficiente de reflexao ambiente\n",
    "        uniform float kd; // coeficiente de reflexao difusa\n",
    "        \n",
    "        vec3 lightColor = vec3(1.0, 1.0, 1.0);\n",
    "\n",
    "        varying vec2 out_texture; // recebido do vertex shader\n",
    "        varying vec3 out_normal; // recebido do vertex shader\n",
    "        varying vec3 out_fragPos; // recebido do vertex shader\n",
    "        uniform sampler2D samplerTexture;\n",
    "\n",
    "        uniform vec4 color;\n",
    "        \n",
    "        void main(){\n",
    "            vec3 ambient = ka * lightColor;  \n",
    "            \n",
    "            vec3 norm = normalize(out_normal); // normaliza vetores perpendiculares\n",
    "            vec3 lightDir = normalize(lightPos - out_fragPos); // direcao da luz\n",
    "            float diff = max(dot(norm, lightDir), 0.0); // verifica limite angular (entre 0 e 90)\n",
    "            vec3 diffuse = kd * diff * lightColor; // iluminacao difusa\n",
    "            \n",
    "            vec4 texture = texture2D(samplerTexture, out_texture);\n",
    "            vec4 result = vec4((ambient + diffuse),1.0) * texture; // aplica iluminacao\n",
    "            gl_FragColor = result;\n",
    "        }\n",
    "        \"\"\""
   ]
  },
  {
   "cell_type": "markdown",
   "metadata": {},
   "source": [
    "### Requisitando slot para a GPU para nossos programas Vertex e Fragment Shaders"
   ]
  },
  {
   "cell_type": "code",
   "execution_count": 5,
   "metadata": {},
   "outputs": [],
   "source": [
    "# Request a program and shader slots from GPU\n",
    "program  = glCreateProgram()\n",
    "vertex   = glCreateShader(GL_VERTEX_SHADER)\n",
    "fragment = glCreateShader(GL_FRAGMENT_SHADER)"
   ]
  },
  {
   "cell_type": "markdown",
   "metadata": {},
   "source": [
    "### Associando nosso código-fonte aos slots solicitados"
   ]
  },
  {
   "cell_type": "code",
   "execution_count": 6,
   "metadata": {},
   "outputs": [],
   "source": [
    "# Set shaders source\n",
    "glShaderSource(vertex, vertex_code)\n",
    "glShaderSource(fragment, fragment_code)"
   ]
  },
  {
   "cell_type": "markdown",
   "metadata": {},
   "source": [
    "### Compilando o Vertex Shader\n",
    "\n",
    "Se há algum erro em nosso programa Vertex Shader, nosso app para por aqui."
   ]
  },
  {
   "cell_type": "code",
   "execution_count": 7,
   "metadata": {},
   "outputs": [],
   "source": [
    "# Compile shaders\n",
    "glCompileShader(vertex)\n",
    "if not glGetShaderiv(vertex, GL_COMPILE_STATUS):\n",
    "    error = glGetShaderInfoLog(vertex).decode()\n",
    "    print(error)\n",
    "    raise RuntimeError(\"Erro de compilacao do Vertex Shader\")"
   ]
  },
  {
   "cell_type": "markdown",
   "metadata": {},
   "source": [
    "### Compilando o Fragment Shader\n",
    "\n",
    "Se há algum erro em nosso programa Fragment Shader, nosso app para por aqui."
   ]
  },
  {
   "cell_type": "code",
   "execution_count": 8,
   "metadata": {},
   "outputs": [],
   "source": [
    "glCompileShader(fragment)\n",
    "if not glGetShaderiv(fragment, GL_COMPILE_STATUS):\n",
    "    error = glGetShaderInfoLog(fragment).decode()\n",
    "    print(error)\n",
    "    raise RuntimeError(\"Erro de compilacao do Fragment Shader\")"
   ]
  },
  {
   "cell_type": "markdown",
   "metadata": {},
   "source": [
    "### Associando os programas compilado ao programa principal"
   ]
  },
  {
   "cell_type": "code",
   "execution_count": 9,
   "metadata": {},
   "outputs": [],
   "source": [
    "# Attach shader objects to the program\n",
    "glAttachShader(program, vertex)\n",
    "glAttachShader(program, fragment)"
   ]
  },
  {
   "cell_type": "markdown",
   "metadata": {},
   "source": [
    "### Linkagem do programa"
   ]
  },
  {
   "cell_type": "code",
   "execution_count": 10,
   "metadata": {},
   "outputs": [],
   "source": [
    "# Build program\n",
    "glLinkProgram(program)\n",
    "if not glGetProgramiv(program, GL_LINK_STATUS):\n",
    "    print(glGetProgramInfoLog(program))\n",
    "    raise RuntimeError('Linking error')\n",
    "    \n",
    "# Make program the default program\n",
    "glUseProgram(program)"
   ]
  },
  {
   "cell_type": "markdown",
   "metadata": {},
   "source": [
    "### Preparando dados para enviar a GPU\n",
    "\n",
    "Nesse momento, compilamos nossos Vertex e Program Shaders para que a GPU possa processá-los.\n",
    "\n",
    "Por outro lado, as informações de vértices geralmente estão na CPU e devem ser transmitidas para a GPU."
   ]
  },
  {
   "cell_type": "markdown",
   "metadata": {},
   "source": [
    "### Carregando Modelos (vértices e texturas) a partir de Arquivos\n",
    "\n",
    "A função abaixo carrega modelos a partir de arquivos no formato WaveFront.\n",
    "\n",
    "\n",
    "Para saber mais sobre o modelo, acesse: https://en.wikipedia.org/wiki/Wavefront_.obj_file\n",
    "\n",
    "\n",
    "Nos slides e vídeo da Aula, descrevemos o funcionamento desse formato."
   ]
  },
  {
   "cell_type": "code",
   "execution_count": 11,
   "metadata": {},
   "outputs": [],
   "source": [
    "def load_model_from_file(filename):\n",
    "    \"\"\"Loads a Wavefront OBJ file. \"\"\"\n",
    "    objects = {}\n",
    "    vertices = []\n",
    "    normals = []\n",
    "    texture_coords = []\n",
    "    faces = []\n",
    "\n",
    "    material = None\n",
    "\n",
    "    # abre o arquivo obj para leitura\n",
    "    for line in open(filename, \"r\"): ## para cada linha do arquivo .obj\n",
    "        if line.startswith('#'): continue ## ignora comentarios\n",
    "        values = line.split() # quebra a linha por espaço\n",
    "        if not values: continue\n",
    "\n",
    "\n",
    "        ### recuperando vertices\n",
    "        if values[0] == 'v':\n",
    "            vertices.append(values[1:4])\n",
    "\n",
    "        ### recuperando vertices\n",
    "        if values[0] == 'vn':\n",
    "            normals.append(values[1:4])\n",
    "\n",
    "        ### recuperando coordenadas de textura\n",
    "        elif values[0] == 'vt':\n",
    "            texture_coords.append(values[1:3])\n",
    "\n",
    "        ### recuperando faces \n",
    "        elif values[0] in ('usemtl', 'usemat'):\n",
    "            material = values[1]\n",
    "        elif values[0] == 'f':\n",
    "            face = []\n",
    "            face_texture = []\n",
    "            face_normals = []\n",
    "            for v in values[1:]:\n",
    "                w = v.split('/')\n",
    "                face.append(int(w[0]))\n",
    "                face_normals.append(int(w[2]))\n",
    "                if len(w) >= 2 and len(w[1]) > 0:\n",
    "                    face_texture.append(int(w[1]))\n",
    "                else:\n",
    "                    face_texture.append(0)\n",
    "\n",
    "            faces.append((face, face_texture, face_normals, material))\n",
    "\n",
    "    model = {}\n",
    "    model['vertices'] = vertices\n",
    "    model['texture'] = texture_coords\n",
    "    model['faces'] = faces\n",
    "    model['normals'] = normals\n",
    "\n",
    "    return model"
   ]
  },
  {
   "cell_type": "code",
   "execution_count": 12,
   "metadata": {},
   "outputs": [],
   "source": [
    "glEnable(GL_TEXTURE_2D)\n",
    "qtd_texturas = 10\n",
    "textures = glGenTextures(qtd_texturas)\n",
    "\n",
    "def load_texture_from_file(texture_id, img_textura):\n",
    "    glBindTexture(GL_TEXTURE_2D, texture_id)\n",
    "    print(texture_id)\n",
    "    print(img_textura)\n",
    "    glTexParameteri(GL_TEXTURE_2D, GL_TEXTURE_WRAP_S, GL_REPEAT)\n",
    "    glTexParameteri(GL_TEXTURE_2D, GL_TEXTURE_WRAP_T, GL_REPEAT)\n",
    "    glTexParameteri(GL_TEXTURE_2D, GL_TEXTURE_MIN_FILTER, GL_LINEAR)\n",
    "    glTexParameteri(GL_TEXTURE_2D, GL_TEXTURE_MAG_FILTER, GL_LINEAR)\n",
    "    img = Image.open(img_textura).convert('RGB')\n",
    "    img_width = img.size[0]\n",
    "    img_height = img.size[1]\n",
    "    image_data = img.tobytes(\"raw\", \"RGB\", 0, -1)\n",
    "    #image_data = np.array(list(img.getdata()), np.uint8)\n",
    "    glTexImage2D(GL_TEXTURE_2D, 0, GL_RGB, img_width, img_height, 0, GL_RGB, GL_UNSIGNED_BYTE, image_data)"
   ]
  },
  {
   "cell_type": "markdown",
   "metadata": {},
   "source": [
    "### A lista abaixo armazena todos os vertices carregados dos arquivos"
   ]
  },
  {
   "cell_type": "code",
   "execution_count": 13,
   "metadata": {},
   "outputs": [
    {
     "name": "stdout",
     "output_type": "stream",
     "text": [
      "0\n"
     ]
    }
   ],
   "source": [
    "vertices_list = []    \n",
    "textures_coord_list = []\n",
    "normals_list = []    \n",
    "\n",
    "indice_vertice_objeto = [0,0]\n",
    "print(indice_vertice_objeto[1])"
   ]
  },
  {
   "cell_type": "code",
   "execution_count": 14,
   "metadata": {},
   "outputs": [],
   "source": [
    "# Função para visualizar melhor quais vértices pertencem a cada objeto\n",
    "\n",
    "def print_vertices(modelo, len_vertices_list):\n",
    "    global indice_vertice_objeto\n",
    "    elemento_atual = modelo['faces'][0][2]\n",
    "    contagem_vertices_elemento = [-3,0,0,0,0,0,0,0,0]\n",
    "    i = 0\n",
    "\n",
    "    # Para cada face do modelo\n",
    "    for face in modelo['faces']:\n",
    "        # Se o elemento atual for igual ao elemento da face atual\n",
    "        # então incrementa a contagem de vértices do elemento atual\n",
    "        contagem_vertices_elemento[i] += 3\n",
    "        proximo_elemento = face[3]\n",
    "        # Se o elemento atual for diferente do elemento da face atual\n",
    "        # então imprime a contagem de vértices do elemento atual\n",
    "        # e atualiza o elemento atual\n",
    "        if(proximo_elemento != elemento_atual):\n",
    "            indice_vertice_objeto[0] = indice_vertice_objeto[1]\n",
    "            indice_vertice_objeto[1] += contagem_vertices_elemento[i]\n",
    "            print(\"Parte:\", elemento_atual, \"\\tVértices:\", contagem_vertices_elemento[i], \"\\tInício:\", indice_vertice_objeto[0], \"\\tFim:\", indice_vertice_objeto[1], \"\\n\")\n",
    "            elemento_atual = proximo_elemento\n",
    "            i += 1\n",
    "\n",
    "    # Imprime a contagem de vértices do último elemento \n",
    "    indice_vertice_objeto[0] = indice_vertice_objeto[1]\n",
    "    indice_vertice_objeto[1] += contagem_vertices_elemento[i]+3\n",
    "    print(\"Parte:\", proximo_elemento, \"\\tVértices:\", contagem_vertices_elemento[i]+3, \"\\tInício:\", indice_vertice_objeto[0], \"\\tFim:\", indice_vertice_objeto[1], \"\\n\")\n",
    "\n",
    "    # Atualiza a contagem de vértices\n",
    "    indice_vertice_objeto[0] = len_vertices_list\n",
    "    indice_vertice_objeto[1] = len_vertices_list\n",
    "    print(indice_vertice_objeto)"
   ]
  },
  {
   "cell_type": "markdown",
   "metadata": {},
   "source": [
    "### Carregamos cada modelo e definimos funções para desenhá-los"
   ]
  },
  {
   "cell_type": "code",
   "execution_count": 15,
   "metadata": {},
   "outputs": [
    {
     "name": "stdout",
     "output_type": "stream",
     "text": [
      "Processando modelo cube.obj. Vertice inicial: 0\n",
      "Processando modelo cube.obj. Vertice final: 36\n",
      "0\n",
      "caixa/caixa2.jpg\n",
      "Parte: [1, 1, 1] \tVértices: 0 \tInício: 0 \tFim: 0 \n",
      "\n",
      "Parte: Material.002 \tVértices: 36 \tInício: 0 \tFim: 36 \n",
      "\n",
      "[36, 36]\n"
     ]
    }
   ],
   "source": [
    "modelo = load_model_from_file('caixa/caixa.obj')\n",
    "### inserindo vertices do modelo no vetor de vertices\n",
    "print('Processando modelo cube.obj. Vertice inicial:',len(vertices_list))\n",
    "for face in modelo['faces']:\n",
    "    for vertice_id in face[0]:\n",
    "        vertices_list.append( modelo['vertices'][vertice_id-1] )\n",
    "    for texture_id in face[1]:\n",
    "        textures_coord_list.append( modelo['texture'][texture_id-1] )\n",
    "    for normal_id in face[2]:\n",
    "        normals_list.append( modelo['normals'][normal_id-1] )\n",
    "        \n",
    "print('Processando modelo cube.obj. Vertice final:',len(vertices_list))\n",
    "\n",
    "### inserindo coordenadas de textura do modelo no vetor de texturas\n",
    "\n",
    "\n",
    "### carregando textura equivalente e definindo um id (buffer): use um id por textura!\n",
    "load_texture_from_file(0,'caixa/caixa2.jpg')\n",
    "\n",
    "print_vertices(modelo, len(vertices_list))\n"
   ]
  },
  {
   "cell_type": "code",
   "execution_count": 16,
   "metadata": {},
   "outputs": [
    {
     "name": "stdout",
     "output_type": "stream",
     "text": [
      "Processando modelo terreno.obj. Vertice inicial: 36\n",
      "Processando modelo terreno.obj. Vertice final: 42\n",
      "1\n",
      "terreno/rock.jpg\n",
      "Parte: [1, 1, 1] \tVértices: 0 \tInício: 36 \tFim: 36 \n",
      "\n",
      "Parte: Default_OBJ.001 \tVértices: 6 \tInício: 36 \tFim: 42 \n",
      "\n",
      "[42, 42]\n"
     ]
    }
   ],
   "source": [
    "modelo = load_model_from_file('terreno/terreno.obj')\n",
    "global indice_vertice_objeto\n",
    "### inserindo vertices do modelo no vetor de vertices\n",
    "print('Processando modelo terreno.obj. Vertice inicial:',len(vertices_list))\n",
    "for face in modelo['faces']:\n",
    "    for vertice_id in face[0]:\n",
    "        vertices_list.append( modelo['vertices'][vertice_id-1] )\n",
    "    for texture_id in face[1]:\n",
    "        textures_coord_list.append( modelo['texture'][texture_id-1] )\n",
    "    for normal_id in face[2]:\n",
    "        normals_list.append( modelo['normals'][normal_id-1] )\n",
    "print('Processando modelo terreno.obj. Vertice final:',len(vertices_list))\n",
    "\n",
    "### inserindo coordenadas de textura do modelo no vetor de texturas\n",
    "\n",
    "\n",
    "### carregando textura equivalente e definindo um id (buffer): use um id por textura!\n",
    "load_texture_from_file(1,'terreno/rock.jpg')\n",
    "\n",
    "print_vertices(modelo, len(vertices_list))\n"
   ]
  },
  {
   "cell_type": "code",
   "execution_count": 17,
   "metadata": {},
   "outputs": [
    {
     "name": "stdout",
     "output_type": "stream",
     "text": [
      "Processando modelo casa.obj. Vertice inicial: 42\n",
      "5424\n",
      "Processando modelo casa.obj. Vertice final: 5424\n",
      "2\n",
      "casa/House/texture.png\n",
      "3\n",
      "casa/House/texturedarker.png\n",
      "4\n",
      "casa/House/red.png\n",
      "5424\n"
     ]
    }
   ],
   "source": [
    "# modelo = load_model_from_file('casa/casa.obj')\n",
    "modelo = load_model_from_file('casa/House/casa.obj')\n",
    "# print(modelo)\n",
    "### inserindo vertices do modelo no vetor de vertices\n",
    "print('Processando modelo casa.obj. Vertice inicial:',len(vertices_list))\n",
    "for face in modelo['faces']:\n",
    "    for vertice_id in face[0]:\n",
    "        vertices_list.append( modelo['vertices'][vertice_id-1] )\n",
    "    for texture_id in face[1]:\n",
    "        textures_coord_list.append( modelo['texture'][texture_id-1] )\n",
    "    for normal_id in face[2]:\n",
    "        normals_list.append( modelo['normals'][normal_id-1] )\n",
    "print(len(vertices_list))\n",
    "print('Processando modelo casa.obj. Vertice final:',len(vertices_list))\n",
    "\n",
    "### inserindo coordenadas de textura do modelo no vetor de texturas\n",
    "\n",
    "\n",
    "### carregando textura equivalente e definindo um id (buffer): use um id por textura!\n",
    "load_texture_from_file(2,'casa/House/texture.png')\n",
    "load_texture_from_file(3,'casa/House/texturedarker.png')\n",
    "load_texture_from_file(4,'casa/House/red.png')\n",
    "print(len(vertices_list))\n",
    "\n",
    "# print_vertices(modelo, len(vertices_list))\n",
    "\n"
   ]
  },
  {
   "cell_type": "code",
   "execution_count": 18,
   "metadata": {},
   "outputs": [
    {
     "name": "stdout",
     "output_type": "stream",
     "text": [
      "Processando modelo monstro.obj. Vertice inicial: 5424\n",
      "Processando modelo monstro.obj. Vertice final: 11556\n",
      "5\n",
      "monstro/monstro2.jpg\n",
      "Parte: [1, 1, 1, 1] \tVértices: 0 \tInício: 42 \tFim: 42 \n",
      "\n",
      "Parte: Material \tVértices: 18 \tInício: 42 \tFim: 60 \n",
      "\n",
      "Parte: Default_OBJ \tVértices: 6108 \tInício: 60 \tFim: 6168 \n",
      "\n",
      "[11556, 11556]\n"
     ]
    }
   ],
   "source": [
    "modelo = load_model_from_file('monstro/monstro2.obj')\n",
    "\n",
    "### inserindo vertices do modelo no vetor de vertices\n",
    "print('Processando modelo monstro.obj. Vertice inicial:',len(vertices_list))\n",
    "for face in modelo['faces']:\n",
    "    for vertice_id in face[0]:\n",
    "        vertices_list.append( modelo['vertices'][vertice_id-1] )\n",
    "    for texture_id in face[1]:\n",
    "        textures_coord_list.append( modelo['texture'][texture_id-1] )\n",
    "    for normal_id in face[2]:\n",
    "        normals_list.append( modelo['normals'][normal_id-1] )\n",
    "print('Processando modelo monstro.obj. Vertice final:',len(vertices_list))\n",
    "\n",
    "### inserindo coordenadas de textura do modelo no vetor de texturas\n",
    "\n",
    "\n",
    "### carregando textura equivalente e definindo um id (buffer): use um id por textura!\n",
    "load_texture_from_file(5,'monstro/monstro2.jpg')\n",
    "\n",
    "print_vertices(modelo, len(vertices_list))\n"
   ]
  },
  {
   "cell_type": "code",
   "execution_count": 19,
   "metadata": {},
   "outputs": [
    {
     "name": "stdout",
     "output_type": "stream",
     "text": [
      "Processando modelo notebook.obj. Vertice inicial: 11556\n",
      "Processando modelo notebook.obj. Vertice final: 12155\n",
      "6\n",
      "notebook/textures/Lowpoly_Laptop_1.jpg\n",
      "7\n",
      "notebook/textures/Lowpoly_Laptop_2.jpg\n",
      "Parte: [1, 1, 1, 1] \tVértices: 0 \tInício: 11556 \tFim: 11556 \n",
      "\n",
      "Parte: Lowpoly_Body \tVértices: 201 \tInício: 11556 \tFim: 11757 \n",
      "\n",
      "Parte: Lowpoly_Screen \tVértices: 282 \tInício: 11757 \tFim: 12039 \n",
      "\n",
      "[12155, 12155]\n"
     ]
    }
   ],
   "source": [
    "# modelo = load_model_from_file('notebook/untitled.obj')\n",
    "modelo = load_model_from_file('notebook/Lowpoly_Notebook_2.obj')\n",
    "\n",
    "\n",
    "### inserindo vertices do modelo no vetor de vertices\n",
    "print('Processando modelo notebook.obj. Vertice inicial:',len(vertices_list))\n",
    "for face in modelo['faces']:\n",
    "    for vertice_id in face[0]:\n",
    "        vertices_list.append( modelo['vertices'][vertice_id-1] )\n",
    "    for texture_id in face[1]:\n",
    "        textures_coord_list.append( modelo['texture'][texture_id-1] )\n",
    "    for normal_id in face[2]:\n",
    "        normals_list.append( modelo['normals'][normal_id-1] )\n",
    "print('Processando modelo notebook.obj. Vertice final:',len(vertices_list))\n",
    "### inserindo coordenadas de textura do modelo no vetor de texturas\n",
    "\n",
    "\n",
    "### carregando textura equivalente e definindo um id (buffer): use um id por textura!\n",
    "load_texture_from_file(6,'notebook/textures/Lowpoly_Laptop_1.jpg')\n",
    "load_texture_from_file(7,'notebook/textures/Lowpoly_Laptop_2.jpg')\n",
    "\n",
    "print_vertices(modelo, len(vertices_list))\n"
   ]
  },
  {
   "cell_type": "code",
   "execution_count": 20,
   "metadata": {},
   "outputs": [
    {
     "name": "stdout",
     "output_type": "stream",
     "text": [
      "Processando modelo carrotriangle.obj. Vertice inicial: 12155\n",
      "Processando modelo carrotriangle.obj. Vertice final: 19847\n",
      "8\n",
      "carro/Car-Model/vermelho.png\n",
      "9\n",
      "carro/Car-Model/azul.png\n",
      "10\n",
      "carro/Car-Model/vinho.png\n",
      "11\n",
      "carro/Car-Model/cinzaclaro.png\n",
      "12\n",
      "carro/Car-Model/preto.png\n",
      "13\n",
      "carro/Car-Model/laranja.png\n",
      "Parte: [1, 1, 1] \tVértices: 0 \tInício: 12155 \tFim: 12155 \n",
      "\n",
      "Parte: Body.002 \tVértices: 606 \tInício: 12155 \tFim: 12761 \n",
      "\n",
      "Parte: Black.002 \tVértices: 168 \tInício: 12761 \tFim: 12929 \n",
      "\n",
      "Parte: Window.002 \tVértices: 186 \tInício: 12929 \tFim: 13115 \n",
      "\n",
      "Parte: Bumpers.002 \tVértices: 480 \tInício: 13115 \tFim: 13595 \n",
      "\n",
      "Parte: Lights.002 \tVértices: 12 \tInício: 13595 \tFim: 13607 \n",
      "\n",
      "Parte: Bottom.002 \tVértices: 144 \tInício: 13607 \tFim: 13751 \n",
      "\n",
      "Parte: Tires.002 \tVértices: 5376 \tInício: 13751 \tFim: 19127 \n",
      "\n",
      "Parte: Wheels.002 \tVértices: 720 \tInício: 19127 \tFim: 19847 \n",
      "\n",
      "[19847, 19847]\n"
     ]
    }
   ],
   "source": [
    "# modelo = load_model_from_file('monstro/carro.obj')\n",
    "modelo = load_model_from_file('carro/Car-Model/carro.obj')\n",
    "\n",
    "# modelo = load_model_from_file('caixa/caixa.obj')\n",
    "\n",
    "\n",
    "### inserindo vertices do modelo no vetor de vertices\n",
    "print('Processando modelo carrotriangle.obj. Vertice inicial:',len(vertices_list))\n",
    "for face in modelo['faces']:\n",
    "    for vertice_id in face[0]:\n",
    "        vertices_list.append( modelo['vertices'][vertice_id-1] )\n",
    "#     for texture_id in face[1]:\n",
    "#         textures_coord_list.append(modelo['texture'][texture_id-1] )  \n",
    "    for normal_id in face[2]:\n",
    "        normals_list.append( modelo['normals'][normal_id-1] )\n",
    "print('Processando modelo carrotriangle.obj. Vertice final:',len(vertices_list))\n",
    "\n",
    "### inserindo coordenadas de textura do modelo no vetor de texturas\n",
    "\n",
    "\n",
    "### carregando textura equivalente e definindo um id (buffer): use um id por textura!\n",
    "load_texture_from_file(8,'carro/Car-Model/vermelho.png')\n",
    "load_texture_from_file(9,'carro/Car-Model/azul.png')\n",
    "load_texture_from_file(10,'carro/Car-Model/vinho.png')\n",
    "load_texture_from_file(11,'carro/Car-Model/cinzaclaro.png')\n",
    "load_texture_from_file(12,'carro/Car-Model/preto.png')\n",
    "load_texture_from_file(13,'carro/Car-Model/laranja.png')\n",
    "\n",
    "\n",
    "# load_texture_from_file(4,'notebook/textures/moodle.jpg')\n",
    "# load_texture_from_file(5,'notebook/textures/Lowpoly_Laptop_2.jpg')\n",
    "\n",
    "\n",
    "# load_texture_from_file(4,'caixa/caixa2.jpg')\n",
    "\n",
    "print_vertices(modelo, len(vertices_list))\n",
    "\n"
   ]
  },
  {
   "cell_type": "code",
   "execution_count": 21,
   "metadata": {},
   "outputs": [
    {
     "name": "stdout",
     "output_type": "stream",
     "text": [
      "Processando modelo moon.obj. Vertice inicial: 19847\n",
      "Processando modelo moon.obj. Vertice final: 138671\n",
      "14\n",
      "moon/moonmap.jpg\n",
      "Parte: [1, 1, 1, 1] \tVértices: 0 \tInício: 19847 \tFim: 19847 \n",
      "\n",
      "Parte: Material \tVértices: 18 \tInício: 19847 \tFim: 19865 \n",
      "\n",
      "Parte: 01___Default \tVértices: 118800 \tInício: 19865 \tFim: 138665 \n",
      "\n",
      "[138671, 138671]\n"
     ]
    }
   ],
   "source": [
    "modelo = load_model_from_file('moon/moon.obj')\n",
    "### inserindo vertices do modelo no vetor de vertices\n",
    "print('Processando modelo moon.obj. Vertice inicial:',len(vertices_list))\n",
    "for face in modelo['faces']:\n",
    "    for vertice_id in face[0]:\n",
    "        vertices_list.append( modelo['vertices'][vertice_id-1] )\n",
    "    for texture_id in face[1]:\n",
    "        textures_coord_list.append( modelo['texture'][texture_id-1] )\n",
    "    for normal_id in face[2]:\n",
    "        normals_list.append( modelo['normals'][normal_id-1] )\n",
    "print('Processando modelo moon.obj. Vertice final:',len(vertices_list))\n",
    "\n",
    "### carregando textura equivalente e definindo um id (buffer): use um id por textura!\n",
    "load_texture_from_file(14,'moon/moonmap.jpg')\n",
    "\n",
    "print_vertices(modelo, len(vertices_list))"
   ]
  },
  {
   "cell_type": "code",
   "execution_count": 22,
   "metadata": {},
   "outputs": [
    {
     "name": "stdout",
     "output_type": "stream",
     "text": [
      "Processando modelo bola.obj. Vertice inicial: 138671\n",
      "Processando modelo bola.obj. Vertice final: 169919\n",
      "15\n",
      "bola/ball.png\n"
     ]
    }
   ],
   "source": [
    "modelo = load_model_from_file('bola/ball.obj')\n",
    "\n",
    "print('Processando modelo bola.obj. Vertice inicial:',len(vertices_list))\n",
    "for face in modelo['faces']:\n",
    "    for vertice_id in face[0]:\n",
    "        vertices_list.append( modelo['vertices'][vertice_id-1] )\n",
    "    for texture_id in face[1]:\n",
    "        textures_coord_list.append( modelo['texture'][texture_id-1] )\n",
    "print('Processando modelo bola.obj. Vertice final:',len(vertices_list))\n",
    "\n",
    "load_texture_from_file(15,'bola/ball.png')"
   ]
  },
  {
   "cell_type": "code",
   "execution_count": 23,
   "metadata": {},
   "outputs": [
    {
     "name": "stdout",
     "output_type": "stream",
     "text": [
      "Processando modelo skybox.obj. Vertice inicial: 169919\n",
      "Processando modelo skybox.obj. Vertice final: 169955\n",
      "16\n",
      "skybox1/sky_top.png\n",
      "Parte: [1, 1, 1] \tVértices: 0 \tInício: 138671 \tFim: 138671 \n",
      "\n",
      "Parte: Material \tVértices: 36 \tInício: 138671 \tFim: 138707 \n",
      "\n",
      "[169955, 169955]\n"
     ]
    }
   ],
   "source": [
    "modelo = load_model_from_file('skybox1/sky.obj')\n",
    "### inserindo vertices do modelo no vetor de vertices\n",
    "print('Processando modelo skybox.obj. Vertice inicial:',len(vertices_list))\n",
    "for face in modelo['faces']:\n",
    "    for vertice_id in face[0]:\n",
    "        vertices_list.append( modelo['vertices'][vertice_id-1] )\n",
    "    for texture_id in face[1]:\n",
    "        textures_coord_list.append( modelo['texture'][texture_id-1] )\n",
    "    for normal_id in face[2]:\n",
    "        normals_list.append( modelo['normals'][normal_id-1] )\n",
    "        \n",
    "print('Processando modelo skybox.obj. Vertice final:',len(vertices_list))\n",
    "\n",
    "### carregando textura equivalente e definindo um id (buffer): use um id por textura!\n",
    "load_texture_from_file(16,'skybox1/sky_top.png')\n",
    "# load_texture_from_file(16,'caixa/caixa.jpg')\n",
    "\n",
    "print_vertices(modelo, len(vertices_list))\n"
   ]
  },
  {
   "cell_type": "markdown",
   "metadata": {},
   "source": [
    "### Para enviar nossos dados da CPU para a GPU, precisamos requisitar slots.\n",
    "\n",
    "Agora requisitamos dois slots.\n",
    "* Um para enviar coordenadas dos vértices.\n",
    "* Outro para enviar coordenadas de texturas."
   ]
  },
  {
   "cell_type": "code",
   "execution_count": 24,
   "metadata": {},
   "outputs": [],
   "source": [
    "# Request a buffer slot from GPU\n",
    "buffer = glGenBuffers(3)"
   ]
  },
  {
   "cell_type": "markdown",
   "metadata": {},
   "source": [
    "###  Enviando coordenadas de vértices para a GPU"
   ]
  },
  {
   "cell_type": "code",
   "execution_count": 25,
   "metadata": {},
   "outputs": [],
   "source": [
    "vertices = np.zeros(len(vertices_list), [(\"position\", np.float32, 3)])\n",
    "vertices['position'] = vertices_list\n",
    "\n",
    "\n",
    "# Upload data\n",
    "glBindBuffer(GL_ARRAY_BUFFER, buffer[0])\n",
    "glBufferData(GL_ARRAY_BUFFER, vertices.nbytes, vertices, GL_STATIC_DRAW)\n",
    "stride = vertices.strides[0]\n",
    "offset = ctypes.c_void_p(0)\n",
    "loc_vertices = glGetAttribLocation(program, \"position\")\n",
    "glEnableVertexAttribArray(loc_vertices)\n",
    "glVertexAttribPointer(loc_vertices, 3, GL_FLOAT, False, stride, offset)"
   ]
  },
  {
   "cell_type": "markdown",
   "metadata": {},
   "source": [
    "###  Enviando coordenadas de textura para a GPU"
   ]
  },
  {
   "cell_type": "code",
   "execution_count": 26,
   "metadata": {},
   "outputs": [],
   "source": [
    "textures = np.zeros(len(textures_coord_list), [(\"position\", np.float32, 2)]) # duas coordenadas\n",
    "textures['position'] = textures_coord_list\n",
    "\n",
    "\n",
    "# Upload data\n",
    "glBindBuffer(GL_ARRAY_BUFFER, buffer[1])\n",
    "glBufferData(GL_ARRAY_BUFFER, textures.nbytes, textures, GL_STATIC_DRAW)\n",
    "stride = textures.strides[0]\n",
    "offset = ctypes.c_void_p(0)\n",
    "loc_texture_coord = glGetAttribLocation(program, \"texture_coord\")\n",
    "glEnableVertexAttribArray(loc_texture_coord)\n",
    "glVertexAttribPointer(loc_texture_coord, 2, GL_FLOAT, False, stride, offset)"
   ]
  },
  {
   "cell_type": "markdown",
   "metadata": {},
   "source": [
    "###  Enviando dados de Iluminação a GPU"
   ]
  },
  {
   "cell_type": "markdown",
   "metadata": {},
   "source": [
    "#### Dados de iluminação: vetores normais"
   ]
  },
  {
   "cell_type": "code",
   "execution_count": 27,
   "metadata": {},
   "outputs": [],
   "source": [
    "normals = np.zeros(len(normals_list), [(\"position\", np.float32, 3)]) # três coordenadas\n",
    "normals['position'] = normals_list\n",
    "\n",
    "# Upload coordenadas normals de cada vertice\n",
    "glBindBuffer(GL_ARRAY_BUFFER, buffer[2])\n",
    "glBufferData(GL_ARRAY_BUFFER, normals.nbytes, normals, GL_STATIC_DRAW)\n",
    "stride = normals.strides[0]\n",
    "offset = ctypes.c_void_p(0)\n",
    "loc_normals_coord = glGetAttribLocation(program, \"normals\")\n",
    "glEnableVertexAttribArray(loc_normals_coord)\n",
    "glVertexAttribPointer(loc_normals_coord, 3, GL_FLOAT, False, stride, offset)"
   ]
  },
  {
   "cell_type": "markdown",
   "metadata": {},
   "source": [
    "#### Dados de iluminação: posição da fonte de luz"
   ]
  },
  {
   "cell_type": "code",
   "execution_count": 28,
   "metadata": {},
   "outputs": [],
   "source": [
    "loc_light_pos = glGetUniformLocation(program, \"lightPos\") # recuperando localizacao da variavel lightPos na GPU\n",
    "glUniform3f(loc_light_pos, 0, 20, 20) ### posicao da fonte de luz"
   ]
  },
  {
   "cell_type": "markdown",
   "metadata": {},
   "source": [
    "### Desenhando nossos modelos\n",
    "* Cada modelo tem um Model para posicioná-los no mundo.\n",
    "* É necessário saber qual a posição inicial e total de vértices de cada modelo.\n",
    "* É necessário indicar qual o ID da textura do modelo."
   ]
  },
  {
   "cell_type": "code",
   "execution_count": 29,
   "metadata": {},
   "outputs": [],
   "source": [
    "def desenha_caixa():\n",
    "    \n",
    "    \n",
    "    # aplica a matriz model\n",
    "    \n",
    "    # rotacao\n",
    "    angle = 0.0;\n",
    "    r_x = 0.0; r_y = 0.0; r_z = 1.0;\n",
    "    \n",
    "    # translacao\n",
    "    t_x = 0.0; t_y = 0.0; t_z = 15.0;\n",
    "    \n",
    "    # escala\n",
    "    s_x = 1.0; s_y = 1.0; s_z = 1.0;\n",
    "    \n",
    "    mat_model = model(angle, r_x, r_y, r_z, t_x, t_y, t_z, s_x, s_y, s_z)\n",
    "    loc_model = glGetUniformLocation(program, \"model\")\n",
    "    glUniformMatrix4fv(loc_model, 1, GL_TRUE, mat_model)\n",
    "    \n",
    "    ka = 0.2 # coeficiente de reflexao ambiente do modelo\n",
    "    kd = 0.2 # coeficiente de reflexao difusa do modelo\n",
    "    \n",
    "    loc_ka = glGetUniformLocation(program, \"ka\") # recuperando localizacao da variavel ka na GPU\n",
    "    glUniform1f(loc_ka, ka) ### envia ka pra gpu\n",
    "    \n",
    "    loc_kd = glGetUniformLocation(program, \"kd\") # recuperando localizacao da variavel ka na GPU\n",
    "    glUniform1f(loc_kd, kd) ### envia kd pra gpu\n",
    "       \n",
    "    #define id da textura do modelo\n",
    "    glBindTexture(GL_TEXTURE_2D, 0)\n",
    "    \n",
    "    \n",
    "    # desenha o modelo\n",
    "    glDrawArrays(GL_TRIANGLES, 0, 36) ## renderizando"
   ]
  },
  {
   "cell_type": "code",
   "execution_count": 30,
   "metadata": {},
   "outputs": [],
   "source": [
    "def desenha_terreno():\n",
    "    \n",
    "    \n",
    "    # aplica a matriz model\n",
    "    \n",
    "    # rotacao\n",
    "    angle = 0.0;\n",
    "    r_x = 0.0; r_y = 0.0; r_z = 1.0;\n",
    "    \n",
    "    # translacao\n",
    "    t_x = 0.0; t_y = -1.01; t_z = 0.0;\n",
    "    \n",
    "    # escala\n",
    "    s_x = 50.0; s_y = 50.0; s_z = 50.0;\n",
    "    \n",
    "    mat_model = model(angle, r_x, r_y, r_z, t_x, t_y, t_z, s_x, s_y, s_z)\n",
    "    loc_model = glGetUniformLocation(program, \"model\")\n",
    "    glUniformMatrix4fv(loc_model, 1, GL_TRUE, mat_model)\n",
    "    \n",
    "    ka = 0.2 \n",
    "    kd = 0.2 \n",
    "    \n",
    "    loc_ka = glGetUniformLocation(program, \"ka\")\n",
    "    glUniform1f(loc_ka, ka)\n",
    "    \n",
    "    loc_kd = glGetUniformLocation(program, \"kd\")\n",
    "    glUniform1f(loc_kd, kd)\n",
    "       \n",
    "    #define id da textura do modelo\n",
    "    glBindTexture(GL_TEXTURE_2D, 1)\n",
    "    \n",
    "    \n",
    "    # desenha o modelo\n",
    "    glDrawArrays(GL_TRIANGLES, 36, 42-36) ## renderizando"
   ]
  },
  {
   "cell_type": "code",
   "execution_count": 31,
   "metadata": {},
   "outputs": [],
   "source": [
    "def desenha_casa():\n",
    "    prev = 42\n",
    "\n",
    "    edges = 3084 + prev\n",
    "    walls = 993 + prev \n",
    "    ceilings = 39 + prev \n",
    "    roof = 222 + prev \n",
    "    resto = 5388-roof\n",
    "    # aplica a matriz model\n",
    "    \n",
    "    # rotacao\n",
    "    angle = 0.0;\n",
    "    r_x = 0.0; r_y = 0.0; r_z = 1.0;\n",
    "    \n",
    "    # translacao\n",
    "    t_x = 0.0; t_y = -1.0; t_z = 0.0;\n",
    "    \n",
    "    # escala\n",
    "    s_x = 1.0; s_y = 1.0; s_z = 1.0;\n",
    "    \n",
    "    mat_model = model(angle, r_x, r_y, r_z, t_x, t_y, t_z, s_x, s_y, s_z)\n",
    "    loc_model = glGetUniformLocation(program, \"model\")\n",
    "    glUniformMatrix4fv(loc_model, 1, GL_TRUE, mat_model)\n",
    "    \n",
    "    ka = 0.2 \n",
    "    kd = 0.2 \n",
    "    \n",
    "    loc_ka = glGetUniformLocation(program, \"ka\")\n",
    "    glUniform1f(loc_ka, ka)\n",
    "    \n",
    "    loc_kd = glGetUniformLocation(program, \"kd\")\n",
    "    glUniform1f(loc_kd, kd)\n",
    "\n",
    "\n",
    "    #define id da textura do modelo\n",
    "    glBindTexture(GL_TEXTURE_2D, 2)\n",
    "    # desenha o modelo\n",
    "    glDrawArrays(GL_TRIANGLES, 42, 3084) ## renderizando\n",
    "    \n",
    "    #define id da textura do modelo\n",
    "    glBindTexture(GL_TEXTURE_2D, 3)\n",
    "    # desenha o modelo\n",
    "    glDrawArrays(GL_TRIANGLES, 3126, 993) ## renderizando\n",
    "\n",
    "    #define id da textura do modelo\n",
    "    glBindTexture(GL_TEXTURE_2D, 4)\n",
    "    # desenha o modelo\n",
    "    glDrawArrays(GL_TRIANGLES, 4119 , 39) ## renderizando\n",
    "\n",
    "    #define id da textura do modelo\n",
    "    glBindTexture(GL_TEXTURE_2D, 4)\n",
    "    # desenha o modelo\n",
    "    glDrawArrays(GL_TRIANGLES, 4158 , 222) ## renderizando\n",
    "\n",
    "    glDrawArrays(GL_TRIANGLES, 4380 , 36) ## renderizando\n",
    "\n",
    "\n",
    "\n",
    "\n",
    "\n",
    "    # #define id da textura do modelo\n",
    "    # glBindTexture(GL_TEXTURE_2D, 2)\n",
    "    # # desenha o modelo\n",
    "    # glDrawArrays(GL_TRIANGLES, 42, 5388-42) ## renderizando"
   ]
  },
  {
   "cell_type": "code",
   "execution_count": 32,
   "metadata": {},
   "outputs": [],
   "source": [
    "def desenha_monstro(rotacao_inc):\n",
    "    \n",
    "    \n",
    "    # aplica a matriz model\n",
    "    \n",
    "    # rotacao\n",
    "    angle = rotacao_inc;\n",
    "    r_x = 0.0; r_y = 1.0; r_z = 0.0\n",
    "    \n",
    "    # translacao\n",
    "    t_x = 0.0; t_y = -1.0; t_z = 0.0\n",
    "    \n",
    "    # escala\n",
    "    s_x = 1.0; s_y = 1.0; s_z = 1.0\n",
    "    \n",
    "    mat_model = model(angle, r_x, r_y, r_z, t_x, t_y, t_z, s_x, s_y, s_z)\n",
    "    loc_model = glGetUniformLocation(program, \"model\")\n",
    "    glUniformMatrix4fv(loc_model, 1, GL_TRUE, mat_model)\n",
    "    \n",
    "    ka = 0.2 \n",
    "    kd = 0.2 \n",
    "    \n",
    "    loc_ka = glGetUniformLocation(program, \"ka\")\n",
    "    glUniform1f(loc_ka, ka)\n",
    "    \n",
    "    loc_kd = glGetUniformLocation(program, \"kd\")\n",
    "    glUniform1f(loc_kd, kd)\n",
    "       \n",
    "    #define id da textura do modelo\n",
    "    glBindTexture(GL_TEXTURE_2D, 3)\n",
    "    \n",
    "    \n",
    "    # desenha o modelo\n",
    "    glDrawArrays(GL_TRIANGLES, 5424, 11556-5424) ## renderizando"
   ]
  },
  {
   "cell_type": "code",
   "execution_count": 33,
   "metadata": {},
   "outputs": [],
   "source": [
    "def desenha_note():\n",
    "    \n",
    "    \n",
    "    # aplica a matriz model\n",
    "    \n",
    "    # rotacao\n",
    "    angle = 0;\n",
    "    r_x = 1.0; r_y = 1.0; r_z = 1.0\n",
    "    \n",
    "    # translacao\n",
    "    t_x = 0; t_y = .2; t_z = 0.0\n",
    "    \n",
    "    # escala\n",
    "    s_x = .1; s_y = .1; s_z = .1\n",
    "    \n",
    "    mat_model = model(angle, r_x, r_y, r_z, t_x, t_y, t_z, s_x, s_y, s_z)\n",
    "    loc_model = glGetUniformLocation(program, \"model\")\n",
    "    glUniformMatrix4fv(loc_model, 1, GL_TRUE, mat_model)\n",
    "    \n",
    "    ka = 0.2 \n",
    "    kd = 0.2 \n",
    "    \n",
    "    loc_ka = glGetUniformLocation(program, \"ka\")\n",
    "    glUniform1f(loc_ka, ka)\n",
    "    \n",
    "    loc_kd = glGetUniformLocation(program, \"kd\")\n",
    "    glUniform1f(loc_kd, kd)\n",
    "       \n",
    "    #define id da textura do modelo\n",
    "    glBindTexture(GL_TEXTURE_2D, 6)\n",
    "    # desenha o modelo\n",
    "    \n",
    "    glDrawArrays(GL_TRIANGLES , 11556, 11757-11556) ## renderizando\n",
    "\n",
    "    # #define id da textura do modelo\n",
    "    glBindTexture(GL_TEXTURE_2D, 7)\n",
    "    # # desenha o modelo\n",
    "    glDrawArrays(GL_TRIANGLES, 11757, 12039-11757) ## renderizando\n",
    "    \n"
   ]
  },
  {
   "cell_type": "code",
   "execution_count": 34,
   "metadata": {},
   "outputs": [],
   "source": [
    "carroX = 10\n",
    "carroY = 0.0\n",
    "carroZ = 0.0\n",
    "carroAng = 0.0\n",
    "\n",
    "def desenha_carro():\n",
    "    global carroX, carroY, carroAng\n",
    "\n",
    "    # aplica a matriz model\n",
    "    \n",
    "    # rotacao\n",
    "    angle = carroAng;\n",
    "    r_x = 1.0; r_y = carroAng; r_z = 0.0\n",
    "    \n",
    "    # translacao\n",
    "    t_x = carroX; t_y = carroY; t_z = carroZ\n",
    "    \n",
    "    # escala\n",
    "    s_x = 1; s_y = 1; s_z = 1\n",
    "    \n",
    "    mat_model = model(angle, r_x, r_y, r_z, t_x, t_y, t_z, s_x, s_y, s_z)\n",
    "    loc_model = glGetUniformLocation(program, \"model\")\n",
    "    glUniformMatrix4fv(loc_model, 1, GL_TRUE, mat_model)\n",
    "    \n",
    "    ka = 0.2 \n",
    "    kd = 0.2 \n",
    "    \n",
    "    loc_ka = glGetUniformLocation(program, \"ka\")\n",
    "    glUniform1f(loc_ka, ka)\n",
    "    \n",
    "    loc_kd = glGetUniformLocation(program, \"kd\")\n",
    "    glUniform1f(loc_kd, kd)\n",
    "\n",
    "    #define id da textura do modelo\n",
    "    glBindTexture(GL_TEXTURE_2D, 8)\n",
    "    # desenha o modelo\n",
    "    # Body \n",
    "    glDrawArrays(GL_TRIANGLES , 12155, 12761-12155) ## renderizando\n",
    "    # Black\n",
    "    glBindTexture(GL_TEXTURE_2D, 13)\n",
    "\n",
    "    glDrawArrays(GL_TRIANGLES , 12761, 12929-12761) ## renderizando\n",
    "\n",
    "    # Windows\n",
    "    #define id da textura do modelo\n",
    "    glBindTexture(GL_TEXTURE_2D, 11)\n",
    "    # desenha o modelo\n",
    "    glDrawArrays(GL_TRIANGLES , 12929, 13115-12929) ## renderizando\n",
    "\n",
    "    # Bumpers\n",
    "    #define id da textura do modelo\n",
    "    glBindTexture(GL_TEXTURE_2D, 10)\n",
    "    glDrawArrays(GL_TRIANGLES , 13115, 13595-13115) ## renderizando\n",
    "\n",
    "    # Lights\n",
    "    glBindTexture(GL_TEXTURE_2D, 13)\n",
    "    glDrawArrays(GL_TRIANGLES,13595, 13595-13595) ## renderizando\n",
    "\n",
    "    # Bottom\n",
    "    glBindTexture(GL_TEXTURE_2D, 13)\n",
    "    glDrawArrays(GL_TRIANGLES , 13607, 13751-13607) ## renderizando\n",
    "\n",
    "    #define id da textura do modelo\n",
    "    glBindTexture(GL_TEXTURE_2D, 12)\n",
    "    # desenha o modelo\n",
    "    glDrawArrays(GL_TRIANGLES , 13751, 19127-13751) ## renderizando\n",
    "\n",
    "    #define id da textura do modelo\n",
    "    glBindTexture(GL_TEXTURE_2D, 9)\n",
    "    # desenha o modelo\n",
    "    glDrawArrays(GL_TRIANGLES , 19127, 19847-19127) ## renderizando\n"
   ]
  },
  {
   "cell_type": "code",
   "execution_count": 35,
   "metadata": {},
   "outputs": [],
   "source": [
    "def desenha_lua():\n",
    "    # aplica a matriz model\n",
    "    angle = 0.0;\n",
    "    r_x = 0.0; r_y = 0.0; r_z = 1.0;\n",
    "    t_x = 0.0; t_y = 20.0; t_z = 25.0;\n",
    "    s_x = 0.04; s_y = 0.04; s_z = 0.04;\n",
    "    \n",
    "    mat_model = model(angle, r_x, r_y, r_z, t_x, t_y, t_z, s_x, s_y, s_z)\n",
    "    loc_model = glGetUniformLocation(program, \"model\")\n",
    "    glUniformMatrix4fv(loc_model, 1, GL_TRUE, mat_model)\n",
    "    \n",
    "    ka = 1\n",
    "    kd = 1\n",
    "    \n",
    "    loc_ka = glGetUniformLocation(program, \"ka\")\n",
    "    glUniform1f(loc_ka, ka)\n",
    "    \n",
    "    loc_kd = glGetUniformLocation(program, \"kd\")\n",
    "    glUniform1f(loc_kd, kd)\n",
    "       \n",
    "    #define id da textura do modelo\n",
    "    glBindTexture(GL_TEXTURE_2D, 14)\n",
    "    \n",
    "    # desenha o modelo\n",
    "    glDrawArrays(GL_TRIANGLES, 19847, 138671+19847) ## renderizando"
   ]
  },
  {
   "cell_type": "code",
   "execution_count": 36,
   "metadata": {},
   "outputs": [],
   "source": [
    "def desenha_bola(altura):\n",
    "    # aplica a matriz model\n",
    "    angle = 0.0;\n",
    "    r_x = 0.0; r_y = 0.0; r_z = 1.0;\n",
    "    t_x = 14.0; t_y = altura; t_z = 15.0;\n",
    "    s_x = 3; s_y = 3; s_z = 3;\n",
    "    \n",
    "    mat_model = model(angle, r_x, r_y, r_z, t_x, t_y, t_z, s_x, s_y, s_z)\n",
    "    loc_model = glGetUniformLocation(program, \"model\")\n",
    "    glUniformMatrix4fv(loc_model, 1, GL_TRUE, mat_model)\n",
    "    \n",
    "    ka = 0.2\n",
    "    kd = 0.2\n",
    "    \n",
    "    loc_ka = glGetUniformLocation(program, \"ka\")\n",
    "    glUniform1f(loc_ka, ka)\n",
    "    \n",
    "    loc_kd = glGetUniformLocation(program, \"kd\")\n",
    "    glUniform1f(loc_kd, kd)\n",
    "       \n",
    "    #define id da textura do modelo\n",
    "    glBindTexture(GL_TEXTURE_2D, 15)\n",
    "    \n",
    "    # desenha o modelo\n",
    "    glDrawArrays(GL_TRIANGLES, 138671, 169919-138671) ## renderizando 31248 vértices"
   ]
  },
  {
   "cell_type": "code",
   "execution_count": 37,
   "metadata": {},
   "outputs": [],
   "source": [
    "def desenha_ceu():    \n",
    "    angle = 0.0;\n",
    "    r_x = 0.0; r_y = 0.0; r_z = 1.0;\n",
    "    t_x = 0.0; t_y = 0.0; t_z = 0.0;\n",
    "    s_x = 50.0; s_y = 50.0; s_z = 50.0;\n",
    "    \n",
    "    mat_model = model(angle, r_x, r_y, r_z, t_x, t_y, t_z, s_x, s_y, s_z)\n",
    "    loc_model = glGetUniformLocation(program, \"model\")\n",
    "    glUniformMatrix4fv(loc_model, 1, GL_TRUE, mat_model)\n",
    "    \n",
    "    ka = 1\n",
    "    kd = 1\n",
    "    \n",
    "    loc_ka = glGetUniformLocation(program, \"ka\")\n",
    "    glUniform1f(loc_ka, ka)\n",
    "    \n",
    "    loc_kd = glGetUniformLocation(program, \"kd\")\n",
    "    glUniform1f(loc_kd, kd)\n",
    "       \n",
    "    #define id da textura do modelo\n",
    "    glBindTexture(GL_TEXTURE_2D, 16)\n",
    "    \n",
    "    # desenha o modelo\n",
    "    glDrawArrays(GL_TRIANGLES, 169919, 169955-169919) ## renderizando"
   ]
  },
  {
   "cell_type": "markdown",
   "metadata": {},
   "source": [
    "### Eventos para modificar a posição da câmera.\n",
    "\n",
    "* Usei as teclas A, S, D e W para movimentação no espaço tridimensional.\n",
    "* Usei a posição do mouse para \"direcionar\" a câmera."
   ]
  },
  {
   "cell_type": "code",
   "execution_count": 38,
   "metadata": {},
   "outputs": [],
   "source": [
    "cameraPos   = glm.vec3(0.0,  0.0,  1.0);\n",
    "cameraFront = glm.vec3(0.0,  0.0, -1.0);\n",
    "cameraUp    = glm.vec3(0.0,  1.0,  0.0);\n",
    "\n",
    "polygonal_mode = False\n",
    "prev_key = -1\n",
    "\n",
    "def check_pos(pos):\n",
    "  limit = 47\n",
    "  return pos.x > -limit and pos.x < limit and pos.z > -limit and pos.z < limit and pos.y > 0 and pos.y < limit;\n",
    "\n",
    "def key_event(window,key,scancode,action,mods):\n",
    "    global cameraPos, cameraFront, cameraUp, polygonal_mode\n",
    "    global carroX, carroY, carroZ, carroAng, prev_key\n",
    "\n",
    "    cameraSpeed = 0.2\n",
    "    if key == 73:\n",
    "        carroAng = 0\n",
    "        carroZ += 0.1\n",
    "    if key == 75:\n",
    "        carroAng = -180\n",
    "        carroZ -= 0.1\n",
    "    if key == 74:\n",
    "        carroAng = 90\n",
    "        carroX += 0.1\n",
    "    if key == 76:\n",
    "        carroAng = 270\n",
    "        carroX -= 0.1\n",
    "\n",
    "    if key == 87 and (action==1 or action==2): # tecla W\n",
    "        newPos = cameraPos + cameraSpeed * cameraFront;\n",
    "        if check_pos(newPos):\n",
    "          cameraPos = newPos\n",
    "    \n",
    "    if key == 83 and (action==1 or action==2): # tecla S\n",
    "        newPos = cameraPos - cameraSpeed * cameraFront;\n",
    "        if check_pos(newPos):\n",
    "          cameraPos = newPos\n",
    "    \n",
    "    if key == 65 and (action==1 or action==2): # tecla A\n",
    "        newPos = cameraPos - glm.normalize(glm.cross(cameraFront, cameraUp)) * cameraSpeed\n",
    "        if check_pos(newPos):\n",
    "          cameraPos = newPos\n",
    "        \n",
    "    if key == 68 and (action==1 or action==2): # tecla D\n",
    "        newPos = cameraPos + glm.normalize(glm.cross(cameraFront, cameraUp)) * cameraSpeed\n",
    "        if check_pos(newPos):\n",
    "          cameraPos = newPos\n",
    "        \n",
    "    if key == 80 and action==1 and polygonal_mode==True:\n",
    "        polygonal_mode=False\n",
    "    else:\n",
    "        if key == 80 and action==1 and polygonal_mode==False:\n",
    "            polygonal_mode=True\n",
    "        \n",
    "        \n",
    "        \n",
    "firstMouse = True\n",
    "yaw = -90.0 \n",
    "pitch = 0.0\n",
    "lastX =  largura/2\n",
    "lastY =  altura/2\n",
    "\n",
    "def mouse_event(window, xpos, ypos):\n",
    "    global firstMouse, cameraFront, yaw, pitch, lastX, lastY\n",
    "    if firstMouse:\n",
    "        lastX = xpos\n",
    "        lastY = ypos\n",
    "        firstMouse = False\n",
    "\n",
    "    xoffset = xpos - lastX\n",
    "    yoffset = lastY - ypos\n",
    "    lastX = xpos\n",
    "    lastY = ypos\n",
    "\n",
    "    sensitivity = 0.3 \n",
    "    xoffset *= sensitivity\n",
    "    yoffset *= sensitivity\n",
    "\n",
    "    yaw += xoffset;\n",
    "    pitch += yoffset;\n",
    "\n",
    "    \n",
    "    if pitch >= 90.0: pitch = 90.0\n",
    "    if pitch <= -90.0: pitch = -90.0\n",
    "\n",
    "    front = glm.vec3()\n",
    "    front.x = math.cos(glm.radians(yaw)) * math.cos(glm.radians(pitch))\n",
    "    front.y = math.sin(glm.radians(pitch))\n",
    "    front.z = math.sin(glm.radians(yaw)) * math.cos(glm.radians(pitch))\n",
    "    cameraFront = glm.normalize(front)\n",
    "\n",
    "\n",
    "    \n",
    "glfw.set_key_callback(window,key_event)\n",
    "glfw.set_cursor_pos_callback(window, mouse_event)"
   ]
  },
  {
   "cell_type": "markdown",
   "metadata": {},
   "source": [
    "### Matrizes Model, View e Projection\n",
    "\n",
    "Teremos uma aula específica para entender o seu funcionamento."
   ]
  },
  {
   "cell_type": "code",
   "execution_count": 39,
   "metadata": {},
   "outputs": [],
   "source": [
    "def model(angle, r_x, r_y, r_z, t_x, t_y, t_z, s_x, s_y, s_z):\n",
    "    angle = math.radians(angle)\n",
    "    \n",
    "    matrix_transform = glm.mat4(1.0) # instanciando uma matriz identidade\n",
    "\n",
    "    \n",
    "    # aplicando translacao\n",
    "    matrix_transform = glm.translate(matrix_transform, glm.vec3(t_x, t_y, t_z))    \n",
    "    \n",
    "    # aplicando rotacao\n",
    "    matrix_transform = glm.rotate(matrix_transform, angle, glm.vec3(r_x, r_y, r_z))\n",
    "    \n",
    "    # aplicando escala\n",
    "    matrix_transform = glm.scale(matrix_transform, glm.vec3(s_x, s_y, s_z))\n",
    "    \n",
    "    matrix_transform = np.array(matrix_transform)\n",
    "    \n",
    "    return matrix_transform\n",
    "\n",
    "def view():\n",
    "    global cameraPos, cameraFront, cameraUp\n",
    "    mat_view = glm.lookAt(cameraPos, cameraPos + cameraFront, cameraUp);\n",
    "    mat_view = np.array(mat_view)\n",
    "    return mat_view\n",
    "\n",
    "def projection():\n",
    "    global altura, largura\n",
    "    # perspective parameters: fovy, aspect, near, far\n",
    "    mat_projection = glm.perspective(glm.radians(45.0), largura/altura, 0.1, 1000.0)\n",
    "    mat_projection = np.array(mat_projection)    \n",
    "    return mat_projection"
   ]
  },
  {
   "cell_type": "markdown",
   "metadata": {},
   "source": [
    "### Nesse momento, exibimos a janela."
   ]
  },
  {
   "cell_type": "code",
   "execution_count": 40,
   "metadata": {},
   "outputs": [],
   "source": [
    "glfw.show_window(window)\n",
    "glfw.set_cursor_pos(window, lastX, lastY)"
   ]
  },
  {
   "cell_type": "markdown",
   "metadata": {},
   "source": [
    "### Loop principal da janela.\n",
    "Enquanto a janela não for fechada, esse laço será executado. É neste espaço que trabalhamos com algumas interações com a OpenGL."
   ]
  },
  {
   "cell_type": "code",
   "execution_count": 41,
   "metadata": {},
   "outputs": [],
   "source": [
    "glEnable(GL_DEPTH_TEST) ### importante para 3D\n",
    "\n",
    "rotacao_inc = 0\n",
    "altura_bola = 0\n",
    "velocidade_bola = 0.01\n",
    "\n",
    "while not glfw.window_should_close(window):\n",
    "\n",
    "    glfw.poll_events() \n",
    "    glUniform3f(loc_light_pos, 0, 20, 20) ### posicao da fonte de luz\n",
    "    \n",
    "    glClear(GL_COLOR_BUFFER_BIT | GL_DEPTH_BUFFER_BIT)\n",
    "    \n",
    "    glClearColor(0.9, 0.9, 0.9, 1.0)\n",
    "#     glClearColor(0.2, 0.2, 0.2, 1.0)\n",
    "    \n",
    "    if polygonal_mode==True:\n",
    "        glPolygonMode(GL_FRONT_AND_BACK,GL_LINE)\n",
    "    if polygonal_mode==False:\n",
    "        glPolygonMode(GL_FRONT_AND_BACK,GL_FILL)\n",
    "    \n",
    "    \n",
    "\n",
    "    desenha_caixa()   \n",
    "    desenha_terreno()\n",
    "    desenha_casa()\n",
    "    \n",
    "    rotacao_inc += 0.1\n",
    "    desenha_monstro(rotacao_inc)\n",
    "    desenha_note()\n",
    "    desenha_carro()\n",
    "    desenha_lua()\n",
    "    desenha_ceu()\n",
    "\n",
    "    velocidade_bola = 0.005 if altura_bola <= 0 else velocidade_bola\n",
    "    velocidade_bola = -0.008 if altura_bola >= 3 else velocidade_bola\n",
    "    altura_bola += velocidade_bola\n",
    "    desenha_bola(altura_bola)\n",
    "\n",
    "    mat_view = view()\n",
    "    loc_view = glGetUniformLocation(program, \"view\")\n",
    "    glUniformMatrix4fv(loc_view, 1, GL_TRUE, mat_view)\n",
    "\n",
    "    mat_projection = projection()\n",
    "    loc_projection = glGetUniformLocation(program, \"projection\")\n",
    "    glUniformMatrix4fv(loc_projection, 1, GL_TRUE, mat_projection)\n",
    "    \n",
    "    glfw.swap_buffers(window)\n",
    "\n",
    "glfw.terminate()"
   ]
  }
 ],
 "metadata": {
  "finalized": {
   "timestamp": 1589232864147,
   "trusted": true
  },
  "kernelspec": {
   "display_name": "Python 3 (ipykernel)",
   "language": "python",
   "name": "python3"
  },
  "language_info": {
   "codemirror_mode": {
    "name": "ipython",
    "version": 3
   },
   "file_extension": ".py",
   "mimetype": "text/x-python",
   "name": "python",
   "nbconvert_exporter": "python",
   "pygments_lexer": "ipython3",
   "version": "3.10.6"
  },
  "toc": {
   "base_numbering": 1,
   "nav_menu": {},
   "number_sections": true,
   "sideBar": true,
   "skip_h1_title": false,
   "title_cell": "Table of Contents",
   "title_sidebar": "Contents",
   "toc_cell": false,
   "toc_position": {
    "height": "calc(100% - 180px)",
    "left": "10px",
    "top": "150px",
    "width": "384px"
   },
   "toc_section_display": true,
   "toc_window_display": true
  },
  "varInspector": {
   "cols": {
    "lenName": 16,
    "lenType": 16,
    "lenVar": 40
   },
   "kernels_config": {
    "python": {
     "delete_cmd_postfix": "",
     "delete_cmd_prefix": "del ",
     "library": "var_list.py",
     "varRefreshCmd": "print(var_dic_list())"
    },
    "r": {
     "delete_cmd_postfix": ") ",
     "delete_cmd_prefix": "rm(",
     "library": "var_list.r",
     "varRefreshCmd": "cat(var_dic_list()) "
    }
   },
   "types_to_exclude": [
    "module",
    "function",
    "builtin_function_or_method",
    "instance",
    "_Feature"
   ],
   "window_display": false
  },
  "vscode": {
   "interpreter": {
    "hash": "d674aba619e9128d5d95f68874c090de0e48b8e67c1ba838c5d294b8a6cf0663"
   }
  }
 },
 "nbformat": 4,
 "nbformat_minor": 2
}
